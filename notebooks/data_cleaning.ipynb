{
 "cells": [
  {
   "cell_type": "code",
   "execution_count": 1,
   "id": "aec5658e",
   "metadata": {},
   "outputs": [],
   "source": [
    "import numpy as np\n",
    "import pandas as pd"
   ]
  },
  {
   "cell_type": "code",
   "execution_count": 63,
   "id": "74d01517",
   "metadata": {},
   "outputs": [],
   "source": [
    "def dateTime(row):\n",
    "    date = row['time'].split(\"-\")[1].strip()\n",
    "    time = row['time'].split(\"-\")[2].split(\" \")[1].strip()\n",
    "    return date + \" \" + time"
   ]
  },
  {
   "cell_type": "code",
   "execution_count": 149,
   "id": "3e6fc033",
   "metadata": {},
   "outputs": [],
   "source": [
    "def fixClouds(df,row):\n",
    "    if pd.isnull(row['clouds']):\n",
    "        if row['station'] == \"Bratislava - Mlynská Dolina\":\n",
    "            ba = df[(df['time']==row['time']) & (df['station'] == \"Bratislava Koliba\")]['clouds'].values[0]\n",
    "            if pd.isnull(ba):\n",
    "                return \"Jasno\"\n",
    "            return ba\n",
    "        else:\n",
    "            return \"Jasno\"\n",
    "    else:\n",
    "        return row['clouds']"
   ]
  },
  {
   "cell_type": "code",
   "execution_count": 150,
   "id": "50f50966",
   "metadata": {
    "scrolled": false
   },
   "outputs": [],
   "source": [
    "df = pd.read_csv(\"data.csv\")\n",
    "df['time'] = df.apply(lambda x : dateTime(x),axis=True)\n",
    "df['time'] = pd.to_datetime(df['time'], format=\"%d.%m.%Y %H:%M\")\n",
    "df = df.drop_duplicates(subset=['time','station'], keep='last')\n",
    "df['wind_speed'] = df['wind_speed'].apply(lambda x : float(x.split(\"m/s\")[0].strip()))\n",
    "df['temperature'] = df['temperature'].apply(lambda x : float(x.split(\"°C\")[0].strip()))\n",
    "df['weather'] = df['weather'].fillna(\"pekne\")\n",
    "df['wind_impact'] = df['wind_impact'].fillna(\"0 m/s\")\n",
    "df['wind_impact'] = df['wind_impact'].apply(lambda x : float(x.split(\"m/s\")[0].strip()))\n",
    "df['clouds'] = df.apply(lambda x : fixClouds(df,x),axis=True)"
   ]
  },
  {
   "cell_type": "code",
   "execution_count": 159,
   "id": "138371e5",
   "metadata": {},
   "outputs": [
    {
     "data": {
      "text/html": [
       "<div>\n",
       "<style scoped>\n",
       "    .dataframe tbody tr th:only-of-type {\n",
       "        vertical-align: middle;\n",
       "    }\n",
       "\n",
       "    .dataframe tbody tr th {\n",
       "        vertical-align: top;\n",
       "    }\n",
       "\n",
       "    .dataframe thead th {\n",
       "        text-align: right;\n",
       "    }\n",
       "</style>\n",
       "<table border=\"1\" class=\"dataframe\">\n",
       "  <thead>\n",
       "    <tr style=\"text-align: right;\">\n",
       "      <th></th>\n",
       "      <th>time</th>\n",
       "      <th>station</th>\n",
       "      <th>temperature</th>\n",
       "      <th>wind_dir</th>\n",
       "      <th>wind_speed</th>\n",
       "      <th>wind_impact</th>\n",
       "      <th>clouds</th>\n",
       "      <th>weather</th>\n",
       "    </tr>\n",
       "  </thead>\n",
       "  <tbody>\n",
       "    <tr>\n",
       "      <th>3</th>\n",
       "      <td>2021-07-29 11:00:00</td>\n",
       "      <td>Bratislava - Mlynská Dolina</td>\n",
       "      <td>24.3</td>\n",
       "      <td>SZ</td>\n",
       "      <td>1.0</td>\n",
       "      <td>0.0</td>\n",
       "      <td>Takmer jasno</td>\n",
       "      <td>pekne</td>\n",
       "    </tr>\n",
       "    <tr>\n",
       "      <th>4</th>\n",
       "      <td>2021-07-29 11:00:00</td>\n",
       "      <td>Bratislava Ivanka</td>\n",
       "      <td>24.4</td>\n",
       "      <td>SZ</td>\n",
       "      <td>4.0</td>\n",
       "      <td>0.0</td>\n",
       "      <td>Takmer jasno</td>\n",
       "      <td>pekne</td>\n",
       "    </tr>\n",
       "    <tr>\n",
       "      <th>5</th>\n",
       "      <td>2021-07-29 11:00:00</td>\n",
       "      <td>Bratislava Koliba</td>\n",
       "      <td>24.2</td>\n",
       "      <td>PREM</td>\n",
       "      <td>2.0</td>\n",
       "      <td>0.0</td>\n",
       "      <td>Takmer jasno</td>\n",
       "      <td>pekne</td>\n",
       "    </tr>\n",
       "    <tr>\n",
       "      <th>9</th>\n",
       "      <td>2021-07-29 12:00:00</td>\n",
       "      <td>Bratislava - Mlynská Dolina</td>\n",
       "      <td>25.3</td>\n",
       "      <td>Z</td>\n",
       "      <td>2.0</td>\n",
       "      <td>0.0</td>\n",
       "      <td>Takmer jasno</td>\n",
       "      <td>pekne</td>\n",
       "    </tr>\n",
       "    <tr>\n",
       "      <th>10</th>\n",
       "      <td>2021-07-29 12:00:00</td>\n",
       "      <td>Bratislava Ivanka</td>\n",
       "      <td>25.9</td>\n",
       "      <td>Z</td>\n",
       "      <td>3.0</td>\n",
       "      <td>0.0</td>\n",
       "      <td>Malá oblačnosť</td>\n",
       "      <td>pekne</td>\n",
       "    </tr>\n",
       "  </tbody>\n",
       "</table>\n",
       "</div>"
      ],
      "text/plain": [
       "                  time                      station  temperature wind_dir  \\\n",
       "3  2021-07-29 11:00:00  Bratislava - Mlynská Dolina         24.3       SZ   \n",
       "4  2021-07-29 11:00:00            Bratislava Ivanka         24.4       SZ   \n",
       "5  2021-07-29 11:00:00            Bratislava Koliba         24.2     PREM   \n",
       "9  2021-07-29 12:00:00  Bratislava - Mlynská Dolina         25.3        Z   \n",
       "10 2021-07-29 12:00:00            Bratislava Ivanka         25.9        Z   \n",
       "\n",
       "    wind_speed  wind_impact          clouds weather  \n",
       "3          1.0          0.0    Takmer jasno   pekne  \n",
       "4          4.0          0.0    Takmer jasno   pekne  \n",
       "5          2.0          0.0    Takmer jasno   pekne  \n",
       "9          2.0          0.0    Takmer jasno   pekne  \n",
       "10         3.0          0.0  Malá oblačnosť   pekne  "
      ]
     },
     "execution_count": 159,
     "metadata": {},
     "output_type": "execute_result"
    }
   ],
   "source": [
    "df.head()"
   ]
  }
 ],
 "metadata": {
  "kernelspec": {
   "display_name": "Python 3",
   "language": "python",
   "name": "python3"
  },
  "language_info": {
   "codemirror_mode": {
    "name": "ipython",
    "version": 3
   },
   "file_extension": ".py",
   "mimetype": "text/x-python",
   "name": "python",
   "nbconvert_exporter": "python",
   "pygments_lexer": "ipython3",
   "version": "3.8.11"
  }
 },
 "nbformat": 4,
 "nbformat_minor": 5
}
