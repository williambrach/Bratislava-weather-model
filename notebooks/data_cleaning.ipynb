{
 "cells": [
  {
   "cell_type": "code",
   "execution_count": 31,
   "id": "aec5658e",
   "metadata": {},
   "outputs": [],
   "source": [
    "import numpy as np\n",
    "import pandas as pd"
   ]
  },
  {
   "cell_type": "code",
   "execution_count": 32,
   "id": "74d01517",
   "metadata": {},
   "outputs": [],
   "source": [
    "def dateTime(row):\n",
    "    date = row['time'].split(\"-\")[1].strip()\n",
    "    time = row['time'].split(\"-\")[2].split(\" \")[1].strip()\n",
    "    return date + \" \" + time"
   ]
  },
  {
   "cell_type": "code",
   "execution_count": 33,
   "id": "3e6fc033",
   "metadata": {},
   "outputs": [],
   "source": [
    "def fixClouds(df,row):\n",
    "    if pd.isnull(row['clouds']):\n",
    "        if row['station'] == \"Bratislava - Mlynská Dolina\":\n",
    "            try:\n",
    "                ba = df[(df['time']==row['time']) & (df['station'] == \"Bratislava Koliba\")]['clouds'].values[0]\n",
    "            except:\n",
    "                return \"Jasno\"\n",
    "            if pd.isnull(ba):\n",
    "                return \"Jasno\"\n",
    "            return ba\n",
    "        else:\n",
    "            return \"Jasno\"\n",
    "    else:\n",
    "        return row['clouds']"
   ]
  },
  {
   "cell_type": "code",
   "execution_count": 39,
   "id": "50f50966",
   "metadata": {
    "scrolled": false
   },
   "outputs": [],
   "source": [
    "df1 = pd.read_csv(\"weather.csv\")\n",
    "df2 = pd.read_csv(\"data.csv\")\n",
    "df = df1.append(df2, sort=False)\n",
    "\n",
    "df['time'] = df.apply(lambda x : dateTime(x),axis=True)\n",
    "df['time'] = pd.to_datetime(df['time'], format=\"%d.%m.%Y %H:%M\")\n",
    "df = df.drop_duplicates(subset=['time','station'], keep='last')\n",
    "df['wind_speed'] = df['wind_speed'].apply(lambda x : float(x.split(\"m/s\")[0].strip()))\n",
    "df['temperature'] = df['temperature'].apply(lambda x : float(x.split(\"°C\")[0].strip()))\n",
    "#df['weather'] = df['weather'].fillna(\"pekne\")\n",
    "df['wind_impact'] = df['wind_impact'].fillna(\"0 m/s\")\n",
    "df['wind_impact'] = df['wind_impact'].apply(lambda x : float(x.split(\"m/s\")[0].strip()))\n",
    "df['clouds'] = df.apply(lambda x : fixClouds(df,x),axis=True)\n",
    "df = df.sort_values(by='time') \n",
    "df = df.reset_index(drop=True)"
   ]
  },
  {
   "cell_type": "code",
   "execution_count": 42,
   "id": "2e494578",
   "metadata": {},
   "outputs": [
    {
     "name": "stdout",
     "output_type": "stream",
     "text": [
      "<class 'pandas.core.frame.DataFrame'>\n",
      "RangeIndex: 5246 entries, 0 to 5245\n",
      "Data columns (total 8 columns):\n",
      " #   Column       Non-Null Count  Dtype \n",
      "---  ------       --------------  ----- \n",
      " 0   time         5246 non-null   object\n",
      " 1   station      5246 non-null   object\n",
      " 2   temperature  5246 non-null   object\n",
      " 3   wind_dir     5246 non-null   object\n",
      " 4   wind_speed   5246 non-null   object\n",
      " 5   wind_impact  149 non-null    object\n",
      " 6   clouds       2199 non-null   object\n",
      " 7   weather      287 non-null    object\n",
      "dtypes: object(8)\n",
      "memory usage: 328.0+ KB\n"
     ]
    }
   ],
   "source": [
    "df2.info()"
   ]
  },
  {
   "cell_type": "code",
   "execution_count": 30,
   "id": "f6f6900a",
   "metadata": {},
   "outputs": [],
   "source": [
    "df.to_csv(\"prediction_dataset.csv\")"
   ]
  }
 ],
 "metadata": {
  "kernelspec": {
   "display_name": "Python 3",
   "language": "python",
   "name": "python3"
  },
  "language_info": {
   "codemirror_mode": {
    "name": "ipython",
    "version": 3
   },
   "file_extension": ".py",
   "mimetype": "text/x-python",
   "name": "python",
   "nbconvert_exporter": "python",
   "pygments_lexer": "ipython3",
   "version": "3.8.11"
  }
 },
 "nbformat": 4,
 "nbformat_minor": 5
}
