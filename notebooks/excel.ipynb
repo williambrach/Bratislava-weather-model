{
 "cells": [
  {
   "cell_type": "code",
   "execution_count": 31,
   "metadata": {},
   "outputs": [],
   "source": [
    "import pygsheets\n",
    "\n",
    "gc = pygsheets.authorize(service_file='../keys/bratislava-weather-trends-b9b47037fa19.json')\n",
    "\n",
    "# Open the spreadsheet and the first sheet.\n",
    "sh = gc.open('weather-data')\n",
    "wks = sh.sheet1\n",
    "wks.insert_rows(1, number=1, values=[\"OPA\",\"kek\",\"kek\",\"kek\"], inherit=False)\n",
    "\n"
   ]
  }
 ],
 "metadata": {
  "interpreter": {
   "hash": "5ccc9a44b1c7618bf1a401c2b043e20be3bf50ab331bc2e06c2c6a57e99d26f3"
  },
  "kernelspec": {
   "display_name": "Python 3.8.12 ('weather': venv)",
   "language": "python",
   "name": "python3"
  },
  "language_info": {
   "codemirror_mode": {
    "name": "ipython",
    "version": 3
   },
   "file_extension": ".py",
   "mimetype": "text/x-python",
   "name": "python",
   "nbconvert_exporter": "python",
   "pygments_lexer": "ipython3",
   "version": "3.8.12"
  },
  "orig_nbformat": 4
 },
 "nbformat": 4,
 "nbformat_minor": 2
}
